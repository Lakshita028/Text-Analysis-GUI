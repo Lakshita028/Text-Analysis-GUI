{
 "cells": [
  {
   "cell_type": "code",
   "execution_count": 1,
   "id": "4a82ffdb",
   "metadata": {},
   "outputs": [],
   "source": [
    "import warnings\n",
    "warnings.filterwarnings('ignore')\n",
    "import tkinter as tk"
   ]
  },
  {
   "cell_type": "code",
   "execution_count": 2,
   "id": "24a05ea2",
   "metadata": {},
   "outputs": [],
   "source": [
    "from tkinter import *\n",
    "from tkinter import ttk"
   ]
  },
  {
   "cell_type": "code",
   "execution_count": 3,
   "id": "db3b5b16",
   "metadata": {},
   "outputs": [],
   "source": [
    "from tensorflow.keras.models import Sequential\n",
    "from tensorflow.keras.layers import LSTM,Dense, Dropout, SpatialDropout1D\n",
    "from tensorflow.keras.layers import Embedding"
   ]
  },
  {
   "cell_type": "code",
   "execution_count": 4,
   "id": "711663df",
   "metadata": {},
   "outputs": [],
   "source": [
    "# NLP packages\n",
    "import textblob\n",
    "from textblob import TextBlob\n",
    "import nltk\n",
    "#nltk.download('punkt')"
   ]
  },
  {
   "cell_type": "code",
   "execution_count": 5,
   "id": "977452b1",
   "metadata": {},
   "outputs": [],
   "source": [
    "window = Tk()\n",
    "window.title(\"ANALYZE IT\")\n",
    "window.geometry(\"700x400\")\n",
    "\n",
    "# TAB Label\n",
    "tab_control = ttk.Notebook(window)\n",
    "tab1 = ttk.Frame(tab_control)\n",
    "tab2 = ttk.Frame(tab_control)\n",
    "tab3 = ttk.Frame(tab_control)\n",
    "\n",
    "# ADD TAB TO NOTEBOOK\n",
    "tab_control.add(tab1,text = \"tab1\")\n",
    "tab_control.add(tab2,text = \"tab2\")\n",
    "tab_control.add(tab3,text = \"tab3\")\n",
    "\n",
    "tab_control.pack(expand = 1, fill = \"both\")\n",
    "\n",
    "# TAB FOR \"ANALYZE IT\"\n",
    "label1 = Label(tab1, text = \"NLP ANALYZER\", padx = 5, pady = 5)\n",
    "label1.grid(column = 0, row = 0)\n",
    "label2 = Label(tab2, text = \"FILE PROCESSING\", padx = 5, pady = 5)\n",
    "label2.grid(column = 0, row = 0)\n",
    "label3 = Label(tab3, text = \"ABOUT US\", padx = 5, pady = 5)\n",
    "label3.grid(column = 0, row = 0)\n",
    "\n",
    "# FUNCTION FOR NLP TAB1\n",
    "def get_tokens():\n",
    "    raw_text = str(raw_entry.get())\n",
    "    new_text = TextBlob(raw_text)\n",
    "    final_text = new_text.words\n",
    "    result = '\\n Tokens : {}'.format(final_text)\n",
    "    # Inserting into Display\n",
    "    tab1_display.insert(tk.END,result)\n",
    "    \n",
    "def get_sentiment():\n",
    "    raw_text = str(raw_entry.get())\n",
    "    new_text = TextBlob(raw_text)\n",
    "    final_text = new_text.sentiment\n",
    "    result = '\\nSubjectivity:{}, Polarity:{}'.format(new_text.sentiment.subjectivity,new_text.sentiment.polarity)\n",
    "    tab1_display.insert(tk.END,result)\n",
    "\n",
    "# MAIN NLP TAB1\n",
    "l1 = Label(tab1, text = \"Enter Text for Analysis\", padx = 5, pady = 5)\n",
    "l1.grid(row = 1, column = 0)\n",
    "\n",
    "raw_entry = StringVar()\n",
    "entry1 = Entry(tab1, textvariable = raw_entry, width = 100)\n",
    "entry1.grid(column = 1, row = 1)\n",
    "\n",
    "# BUTTONS\n",
    "button1 = Button(tab1, text = \"Tokenize\", width = 10, height = 3, bg = \"blue\", command = get_tokens)\n",
    "button1.grid(row = 4, column = 0, padx = 5, pady = 5)\n",
    "\n",
    "button2 = Button(tab1, text = \"Word Cloud\", width = 10, bg = \"blue\")\n",
    "button2.grid(row = 4, column = 1, padx = 5, pady = 5)\n",
    "\n",
    "# DISPLAY screen for result\n",
    "tab1_display = Text(tab1)\n",
    "tab1_display.grid(row = 7, column = 0, columnspan = 7, padx = 5, pady = 5)\n",
    "\n",
    "window.mainloop()"
   ]
  },
  {
   "cell_type": "code",
   "execution_count": null,
   "id": "e0203bdd",
   "metadata": {},
   "outputs": [],
   "source": []
  }
 ],
 "metadata": {
  "kernelspec": {
   "display_name": "Python 3 (ipykernel)",
   "language": "python",
   "name": "python3"
  },
  "language_info": {
   "codemirror_mode": {
    "name": "ipython",
    "version": 3
   },
   "file_extension": ".py",
   "mimetype": "text/x-python",
   "name": "python",
   "nbconvert_exporter": "python",
   "pygments_lexer": "ipython3",
   "version": "3.9.13"
  }
 },
 "nbformat": 4,
 "nbformat_minor": 5
}
